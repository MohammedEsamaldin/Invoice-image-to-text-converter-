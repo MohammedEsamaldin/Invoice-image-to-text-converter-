{
  "nbformat": 4,
  "nbformat_minor": 0,
  "metadata": {
    "colab": {
      "provenance": []
    },
    "kernelspec": {
      "name": "python3",
      "display_name": "Python 3"
    },
    "language_info": {
      "name": "python"
    }
  },
  "cells": [
    {
      "cell_type": "code",
      "execution_count": null,
      "metadata": {
        "id": "7Quo4kVOUtET"
      },
      "outputs": [],
      "source": [
        "!sudo apt install tesseract-ocr\n",
        "!pip install pytesseract\n",
        "!sudo apt install tesseract-ocr-ara\n",
        "\n"
      ]
    },
    {
      "cell_type": "code",
      "source": [
        "import pytesseract\n",
        "from PIL import Image\n",
        "from google.colab import files\n",
        "from io import BytesIO\n",
        "\n",
        "# After installing the Arabic and English language packs\n",
        "pytesseract.pytesseract.tesseract_cmd = r'/usr/bin/tesseract'\n",
        "\n",
        "# Use the Google Colab files module to upload files\n",
        "uploaded = files.upload()\n",
        "\n",
        "# The uploaded file is a dictionary with filename as key and value as the file data\n",
        "# Take the filename of the uploaded image\n",
        "filename = next(iter(uploaded))\n",
        "\n",
        "# Use the filename to open the image\n",
        "img = Image.open(BytesIO(uploaded[filename]))\n",
        "\n",
        "# Use Tesseract to do OCR on the image\n",
        "text = pytesseract.image_to_string(img, lang='ara+eng')\n",
        "\n",
        "print(text)\n"
      ],
      "metadata": {
        "id": "jgf7-17marJz"
      },
      "execution_count": null,
      "outputs": []
    }
  ]
}